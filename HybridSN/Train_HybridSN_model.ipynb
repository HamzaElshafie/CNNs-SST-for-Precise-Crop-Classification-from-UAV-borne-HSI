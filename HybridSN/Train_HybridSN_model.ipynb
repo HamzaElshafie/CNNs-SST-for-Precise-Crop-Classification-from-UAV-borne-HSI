{
 "cells": [
  {
   "cell_type": "markdown",
   "metadata": {},
   "source": [
    "<div align='center'>\n",
    "    <img src=\"https://github.com/HamzaElshafie/Spectral-Spatial-Transformers-for-Precise-Crop-Classification-from-UAV-borne-Hyperspectral-Images/blob/HybridSN/Figs/HybridSNTemplate.png?raw=1\" width=\"80%\"/>\n",
    "</div>\n",
    "\n",
    "---\n",
    "S. K. Roy, G. Krishna, S. R. Dubey and B. B. Chaudhuri, \"HybridSN: Exploring 3-D–2-D CNN Feature Hierarchy for Hyperspectral Image Classification,\" in IEEE Geoscience and Remote Sensing Letters, vol. 17, no. 2, pp. 277-281, Feb. 2020, doi: 10.1109/LGRS.2019.2918719. \n",
    "\n"
   ]
  }
 ],
 "metadata": {
  "language_info": {
   "name": "python"
  }
 },
 "nbformat": 4,
 "nbformat_minor": 2
}
